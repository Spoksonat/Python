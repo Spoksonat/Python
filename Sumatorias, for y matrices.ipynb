{
 "cells": [
  {
   "cell_type": "markdown",
   "metadata": {},
   "source": [
    "Sumatorias, for y matrices\n",
    "-------------------------------------\n",
    "\n",
    "\n",
    "Descripción:\n",
    "-----------------\n",
    "\n",
    "A continuación se mostrarán algunos ejemplos con matrices de numpy que son muy útiles, como también de los usos de\n",
    "las funciones *if* y *for* para manejarlas. Ya habíamos visto que se pueden crear matrices del tamaño que queramos de ceros, unos y números aleatorios de la siguiente forma"
   ]
  },
  {
   "cell_type": "code",
   "execution_count": 6,
   "metadata": {},
   "outputs": [
    {
     "name": "stdout",
     "output_type": "stream",
     "text": [
      "[[1. 1. 1.]\n",
      " [1. 1. 1.]\n",
      " [1. 1. 1.]\n",
      " [1. 1. 1.]]\n"
     ]
    }
   ],
   "source": [
    "import numpy as np\n",
    "import matplotlib.pyplot as plt\n",
    "\n",
    "a = np.ones((4,3))\n",
    "print(a)"
   ]
  },
  {
   "cell_type": "code",
   "execution_count": 7,
   "metadata": {},
   "outputs": [
    {
     "name": "stdout",
     "output_type": "stream",
     "text": [
      "[[0. 0. 0. 0.]\n",
      " [0. 0. 0. 0.]\n",
      " [0. 0. 0. 0.]\n",
      " [0. 0. 0. 0.]\n",
      " [0. 0. 0. 0.]]\n"
     ]
    }
   ],
   "source": [
    "b = np.zeros((5,4))\n",
    "print(b)"
   ]
  },
  {
   "cell_type": "code",
   "execution_count": 8,
   "metadata": {},
   "outputs": [
    {
     "name": "stdout",
     "output_type": "stream",
     "text": [
      "[[0.99270841 0.06362631 0.85268343]\n",
      " [0.96438669 0.78494388 0.04821629]\n",
      " [0.99955578 0.59802423 0.87318689]]\n"
     ]
    }
   ],
   "source": [
    "c = np.random.rand(3,3)\n",
    "print(c)"
   ]
  },
  {
   "cell_type": "markdown",
   "metadata": {},
   "source": [
    "y que se pueden obtener los elementos de cada matriz así"
   ]
  },
  {
   "cell_type": "markdown",
   "metadata": {},
   "source": [
    "-Elemento i,j de la matriz c: Fila i y columna j"
   ]
  },
  {
   "cell_type": "code",
   "execution_count": 11,
   "metadata": {},
   "outputs": [
    {
     "name": "stdout",
     "output_type": "stream",
     "text": [
      "0.04821628857037308\n"
     ]
    }
   ],
   "source": [
    "print(c[1][2])"
   ]
  },
  {
   "cell_type": "markdown",
   "metadata": {},
   "source": [
    "-Vector fila i de c: En este caso especial el primer vector fila de c, es decir, el vector fila 0"
   ]
  },
  {
   "cell_type": "code",
   "execution_count": 13,
   "metadata": {},
   "outputs": [
    {
     "name": "stdout",
     "output_type": "stream",
     "text": [
      "[0.99270841 0.06362631 0.85268343]\n"
     ]
    }
   ],
   "source": [
    "print(c[0])"
   ]
  },
  {
   "cell_type": "markdown",
   "metadata": {},
   "source": [
    "-Vector columna j de c: En este caso especial el primer vector columna de c, es decir, el vector columna 0"
   ]
  },
  {
   "cell_type": "code",
   "execution_count": 14,
   "metadata": {},
   "outputs": [
    {
     "name": "stdout",
     "output_type": "stream",
     "text": [
      "[0.99270841 0.96438669 0.99955578]\n"
     ]
    }
   ],
   "source": [
    "print(c[:,0])"
   ]
  },
  {
   "cell_type": "markdown",
   "metadata": {},
   "source": [
    "Sin embargo, podemos ayudarnos de la función *for* para poder modificar los valores de las matrices que ya creamos, generar otras nuevas o hacer operaciones entre dos matrices distintas. Vamos a ver algunos ejemplos de cómo con *for* y matrices se pueden hacer muchas cosas."
   ]
  },
  {
   "cell_type": "markdown",
   "metadata": {},
   "source": [
    "Rellenar matriz con *for*\n",
    "--------"
   ]
  },
  {
   "cell_type": "markdown",
   "metadata": {},
   "source": [
    "Queremos, por ejemplo, transformar una matriz de ceros de $$m \\times n$$ que creamos en una matriz cuyas entradas sean los números naturales desde el 1 hasta $$m \\times n$$. Esto se hace de la siguiente forma:"
   ]
  },
  {
   "cell_type": "code",
   "execution_count": 15,
   "metadata": {},
   "outputs": [
    {
     "name": "stdout",
     "output_type": "stream",
     "text": [
      "[[0. 0. 0. 0.]\n",
      " [0. 0. 0. 0.]\n",
      " [0. 0. 0. 0.]]\n"
     ]
    }
   ],
   "source": [
    "n = 3\n",
    "m = 4\n",
    "A = np.zeros((n,m))\n",
    "print(A)"
   ]
  },
  {
   "cell_type": "code",
   "execution_count": 17,
   "metadata": {},
   "outputs": [
    {
     "name": "stdout",
     "output_type": "stream",
     "text": [
      "[[ 1.  2.  3.  4.]\n",
      " [ 5.  6.  7.  8.]\n",
      " [ 9. 10. 11. 12.]]\n"
     ]
    }
   ],
   "source": [
    "numero = 1\n",
    "for i in range(0,n):\n",
    "    for j in range(0,m):\n",
    "        A[i][j] = numero\n",
    "        numero = numero + 1\n",
    "print(A)"
   ]
  },
  {
   "cell_type": "markdown",
   "metadata": {},
   "source": [
    "Multiplicar matrices con *for*\n",
    "------"
   ]
  },
  {
   "cell_type": "markdown",
   "metadata": {},
   "source": [
    "Las matrices, vistas como arrays de Python, también se pueden definir a partir de listas. Supongamos que queremos\n",
    "encontrar la multiplicación de las siguientes matrices"
   ]
  },
  {
   "cell_type": "markdown",
   "metadata": {},
   "source": [
    "\\begin{equation*}\n",
    "\\begin{pmatrix}\n",
    "1 & 2 & 3 \\\\\n",
    "-1 & 3 & 0 \\\\\n",
    "2 & 4 & 1\n",
    "\\end{pmatrix}\\begin{pmatrix}\n",
    "0 & 3 & 5 \\\\\n",
    "5 & 4 & 2 \\\\\n",
    "8 & 9 & 1\n",
    "\\end{pmatrix}\n",
    "\\end{equation*}"
   ]
  },
  {
   "cell_type": "markdown",
   "metadata": {},
   "source": [
    "El resultado hecho a mano es\n",
    "\n",
    "\\begin{equation*}\n",
    "\\begin{pmatrix}\n",
    "1 & 2 & 3 \\\\\n",
    "-1 & 3 & 0 \\\\\n",
    "2 & 4 & 1\n",
    "\\end{pmatrix}\\begin{pmatrix}\n",
    "0 & 3 & 5 \\\\\n",
    "5 & 4 & 2 \\\\\n",
    "8 & 9 & 1\n",
    "\\end{pmatrix} = \\begin{pmatrix}\n",
    "34 & 38 & 12 \\\\\n",
    "15 & 9 & 1 \\\\\n",
    "28 & 31 & 19\n",
    "\\end{pmatrix}\n",
    "\\end{equation*}"
   ]
  },
  {
   "cell_type": "markdown",
   "metadata": {},
   "source": [
    "Esto sale de que, si A (de tamaño mxn) y B(de tamaño nxp) son las dos matrices que estamos multiplicando y C es el producto de A y B, entonces \n",
    "\n",
    "\\begin{align*}\n",
    "    C_{ij} = \\sum_{k= 1}^{n} A_{ik}B_{kj}\n",
    "\\end{align*}\n",
    "\n",
    "por lo que la implementación de la multiplicación de las matrices A y B se vería de la siguiente manera"
   ]
  },
  {
   "cell_type": "code",
   "execution_count": 18,
   "metadata": {},
   "outputs": [
    {
     "name": "stdout",
     "output_type": "stream",
     "text": [
      "[[ 1.  2.  3.]\n",
      " [-1.  3.  0.]\n",
      " [ 2.  4.  1.]]\n",
      "[[0. 3. 5.]\n",
      " [5. 4. 2.]\n",
      " [8. 9. 1.]]\n"
     ]
    }
   ],
   "source": [
    "A = np.array([[1.0,2.0,3.0],[-1.0,3.0,0.0],[2.0,4.0,1.0]])\n",
    "B = np.array([[0.0,3.0,5.0],[5.0,4.0,2.0],[8.0,9.0,1.0]])\n",
    "print(A)\n",
    "print(B)"
   ]
  },
  {
   "cell_type": "code",
   "execution_count": 23,
   "metadata": {},
   "outputs": [
    {
     "name": "stdout",
     "output_type": "stream",
     "text": [
      "[[0. 0. 0.]\n",
      " [0. 0. 0.]\n",
      " [0. 0. 0.]]\n"
     ]
    }
   ],
   "source": [
    "C = np.zeros((3,3)) #Matriz que vamos a rellenar\n",
    "print(C)"
   ]
  },
  {
   "cell_type": "code",
   "execution_count": 24,
   "metadata": {},
   "outputs": [
    {
     "name": "stdout",
     "output_type": "stream",
     "text": [
      "[[34. 38. 12.]\n",
      " [15.  9.  1.]\n",
      " [28. 31. 19.]]\n"
     ]
    }
   ],
   "source": [
    "for i in range(0,3):\n",
    "    for j in range(0,3):\n",
    "        for k in range(0,3):\n",
    "            C[i][j] += A[i][k]*B[k][j]\n",
    "print(C)"
   ]
  },
  {
   "cell_type": "markdown",
   "metadata": {},
   "source": [
    "Los dos *for* sobre i y j sirven para recorrer la matriz, como se hizo en el primer ejemplo, mientras que el *for* sobre k nos permite implementar la sumatoria para encontrar la componente i,j de la matriz C. El operador \"+=\" sirve para que, al valor de $C_{ij}$ anterior, se le sume en cada iteración el valor $A_{ik}B_{kj}$. Este *for* sobre la variable k es la implementación más común de una sumatoria. Por ejemplo, si queremos encontrar el valor de $S$ si\n",
    "\n",
    "\\begin{align*}\n",
    "   S = \\sum_{k=0}^{4} k^2\n",
    "\\end{align*}\n",
    "\n",
    "Manualmente sabemos que \n",
    "\n",
    "\\begin{align*}\n",
    "   S = \\sum_{k=0}^{4} k^2 = 0^2 + 1^2 + 2^2 + 3^2 + 4^2 = 0+ 1 + 4 + 9 + 16 = 30\n",
    "\\end{align*}\n",
    "\n",
    "Pero si queremos implementar un programa que nos haga esta sumatoria entonces copiamos la forma del *for* visto anteriormente sobre la variable k.\n"
   ]
  },
  {
   "cell_type": "code",
   "execution_count": 28,
   "metadata": {},
   "outputs": [
    {
     "name": "stdout",
     "output_type": "stream",
     "text": [
      "30\n"
     ]
    }
   ],
   "source": [
    "S = 0\n",
    "for k in range(0,5): #va de 0 a 5 porque k  va de 0 a n-1 si se pone range(0,n)\n",
    "    S += pow(k,2)\n",
    "print(S)"
   ]
  },
  {
   "cell_type": "markdown",
   "metadata": {},
   "source": [
    "Como se observa, se obtiene el mismo resultado. Este *for* es la implementación estandar de una sumatoria en Python. También hay otra forma de obtener la multiplicación matricial. Como también se sabe, el elemento $C_{ij}$ se puede escribir como\n",
    "\n",
    "\\begin{align*}\n",
    "    C_{ij} = A_{f_i} \\cdot B_{c_j}\n",
    "\\end{align*}\n",
    "\n",
    "donde $A_{f_i}$ es la fila i-esima de A y $B_{c_j}$ es la columna j-esima de B. Si hacemos esto nos ahorramos un *for* e incluso es más óptimo hacerlo de esta forma que con 3 ciclos *for*. Si lo hacemos de esta forma encontramos que llegamos a lo mismo"
   ]
  },
  {
   "cell_type": "code",
   "execution_count": 29,
   "metadata": {},
   "outputs": [
    {
     "name": "stdout",
     "output_type": "stream",
     "text": [
      "[[34. 38. 12.]\n",
      " [15.  9.  1.]\n",
      " [28. 31. 19.]]\n"
     ]
    }
   ],
   "source": [
    "A = np.array([[1.0,2.0,3.0],[-1.0,3.0,0.0],[2.0,4.0,1.0]])\n",
    "B = np.array([[0.0,3.0,5.0],[5.0,4.0,2.0],[8.0,9.0,1.0]])\n",
    "C = np.zeros((3,3))\n",
    "\n",
    "for i in range(0,3):\n",
    "    for j in range(0,3):\n",
    "        C[i][j] = np.dot(A[i],B[:,j]) #Producto punto entre la fila i de A y la columna j de B\n",
    "print(C)"
   ]
  },
  {
   "cell_type": "markdown",
   "metadata": {},
   "source": [
    "De hecho, hay una forma más óptima de obtener directamente la multiplicación matricial y es con esta misma función np.dot()"
   ]
  },
  {
   "cell_type": "code",
   "execution_count": 30,
   "metadata": {},
   "outputs": [
    {
     "name": "stdout",
     "output_type": "stream",
     "text": [
      "[[34. 38. 12.]\n",
      " [15.  9.  1.]\n",
      " [28. 31. 19.]]\n"
     ]
    }
   ],
   "source": [
    "A = np.array([[1.0,2.0,3.0],[-1.0,3.0,0.0],[2.0,4.0,1.0]])\n",
    "B = np.array([[0.0,3.0,5.0],[5.0,4.0,2.0],[8.0,9.0,1.0]])\n",
    "C = np.dot(A,B)\n",
    "print(C)"
   ]
  },
  {
   "cell_type": "markdown",
   "metadata": {},
   "source": [
    "Pero era necesario explorar las ideas tras los ciclos *for* y las matrices para entender de donde provienen las cosas y entender algunos conceptos, como por ejemplo el de implementar sumatorias en Python."
   ]
  },
  {
   "cell_type": "markdown",
   "metadata": {},
   "source": [
    "Ejercicio\n",
    "-------------\n",
    "\n",
    "Implementar un código que encuentre el promedio, la desviación estandar y la varianza de los valores de una matriz $m \\times n$ aleatoria."
   ]
  },
  {
   "cell_type": "code",
   "execution_count": null,
   "metadata": {},
   "outputs": [],
   "source": []
  }
 ],
 "metadata": {
  "kernelspec": {
   "display_name": "Python 3",
   "language": "python",
   "name": "python3"
  },
  "language_info": {
   "codemirror_mode": {
    "name": "ipython",
    "version": 3
   },
   "file_extension": ".py",
   "mimetype": "text/x-python",
   "name": "python",
   "nbconvert_exporter": "python",
   "pygments_lexer": "ipython3",
   "version": "3.7.1"
  },
  "widgets": {
   "application/vnd.jupyter.widget-state+json": {
    "state": {},
    "version_major": 2,
    "version_minor": 0
   }
  }
 },
 "nbformat": 4,
 "nbformat_minor": 2
}
